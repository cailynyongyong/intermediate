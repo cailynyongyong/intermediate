{
 "cells": [
  {
   "cell_type": "code",
   "execution_count": 1,
   "metadata": {},
   "outputs": [
    {
     "data": {
      "text/plain": [
       "True"
      ]
     },
     "execution_count": 1,
     "metadata": {},
     "output_type": "execute_result"
    }
   ],
   "source": [
    "# %pip install --upgrade --quiet  slack_sdk > /dev/null\n",
    "# %pip install --upgrade --quiet  beautifulsoup4 > /dev/null # This is optional but is useful for parsing HTML messages\n",
    "# %pip install --upgrade --quiet  python-dotenv > /dev/null # This is for loading environmental variables from a .env file\n",
    "\n",
    "# Set environmental variables here\n",
    "# In this example, you set environmental variables by loading a .env file.\n",
    "import dotenv\n",
    "\n",
    "dotenv.load_dotenv()"
   ]
  },
  {
   "cell_type": "code",
   "execution_count": 2,
   "metadata": {},
   "outputs": [
    {
     "data": {
      "text/plain": [
       "[SlackGetChannel(client=<slack_sdk.web.client.WebClient object at 0x111c673a0>),\n",
       " SlackGetMessage(client=<slack_sdk.web.client.WebClient object at 0x111c64b50>),\n",
       " SlackScheduleMessage(client=<slack_sdk.web.client.WebClient object at 0x111c668f0>),\n",
       " SlackSendMessage(client=<slack_sdk.web.client.WebClient object at 0x111c64940>)]"
      ]
     },
     "execution_count": 2,
     "metadata": {},
     "output_type": "execute_result"
    }
   ],
   "source": [
    "from langchain_community.agent_toolkits import SlackToolkit\n",
    "\n",
    "toolkit = SlackToolkit()\n",
    "tools = toolkit.get_tools()\n",
    "tools"
   ]
  },
  {
   "cell_type": "code",
   "execution_count": 3,
   "metadata": {},
   "outputs": [
    {
     "name": "stdout",
     "output_type": "stream",
     "text": [
      "\n",
      "\n",
      "\u001b[1m> Entering new AgentExecutor chain...\u001b[0m\n",
      "\u001b[32;1m\u001b[1;3m\n",
      "Invoking: `get_channelid_name_dict` with `{}`\n",
      "\n",
      "\n",
      "\u001b[0m\u001b[36;1m\u001b[1;3m[{\"id\": \"C02G9FYEE3V\", \"name\": \"general\", \"created\": 1633033139, \"num_members\": 3}, {\"id\": \"C02GGG139NE\", \"name\": \"newchannel\", \"created\": 1633283269, \"num_members\": 0}, {\"id\": \"C02GGGWCXGS\", \"name\": \"standup\", \"created\": 1633285430, \"num_members\": 3}, {\"id\": \"C02GN4UN45P\", \"name\": \"business-development\", \"created\": 1633033202, \"num_members\": 2}, {\"id\": \"C02GZ4V9ZDE\", \"name\": \"random\", \"created\": 1633033139, \"num_members\": 2}, {\"id\": \"C02K113HVL1\", \"name\": \"github\", \"created\": 1634852497, \"num_members\": 2}]\u001b[0m\u001b[32;1m\u001b[1;3m\n",
      "Invoking: `send_message` with `{'message': \"Hello everyone, hope you're having a great day!\", 'channel': 'C02G9FYEE3V'}`\n",
      "\n",
      "\n",
      "\u001b[0m\u001b[36;1m\u001b[1;3mMessage sent: {'ok': True, 'channel': 'C02G9FYEE3V', 'ts': '1712821713.436299', 'message': {'user': 'U06TM7AKT2S', 'type': 'message', 'ts': '1712821713.436299', 'bot_id': 'B06TTS0SQHY', 'app_id': 'A06UGKS220G', 'text': \"Hello everyone, hope you're having a great day!\", 'team': 'T02G9FYDK27', 'bot_profile': {'id': 'B06TTS0SQHY', 'app_id': 'A06UGKS220G', 'name': 'my-powerful-app', 'icons': {'image_36': 'https://a.slack-edge.com/80588/img/plugins/app/bot_36.png', 'image_48': 'https://a.slack-edge.com/80588/img/plugins/app/bot_48.png', 'image_72': 'https://a.slack-edge.com/80588/img/plugins/app/service_72.png'}, 'deleted': False, 'updated': 1712821242, 'team_id': 'T02G9FYDK27'}, 'blocks': [{'type': 'rich_text', 'block_id': 'Axl7/', 'elements': [{'type': 'rich_text_section', 'elements': [{'type': 'text', 'text': \"Hello everyone, hope you're having a great day!\"}]}]}]}}\u001b[0m\u001b[32;1m\u001b[1;3mI have sent a greeting to your coworkers in the #general channel.\u001b[0m\n",
      "\n",
      "\u001b[1m> Finished chain.\u001b[0m\n"
     ]
    },
    {
     "data": {
      "text/plain": [
       "{'input': 'Send a greeting to my coworkers in the #general channel. Note use `channel` as key of channel id, and `message` as key of content to sent in the channel.',\n",
       " 'output': 'I have sent a greeting to your coworkers in the #general channel.'}"
      ]
     },
     "execution_count": 3,
     "metadata": {},
     "output_type": "execute_result"
    }
   ],
   "source": [
    "from langchain import hub\n",
    "from langchain.agents import AgentExecutor, create_openai_tools_agent\n",
    "from langchain_openai import ChatOpenAI\n",
    "\n",
    "llm = ChatOpenAI(temperature=0, model=\"gpt-4\")\n",
    "prompt = hub.pull(\"hwchase17/openai-tools-agent\")\n",
    "agent = create_openai_tools_agent(\n",
    "    tools=toolkit.get_tools(),\n",
    "    llm=llm,\n",
    "    prompt=prompt,\n",
    ")\n",
    "agent_executor = AgentExecutor(agent=agent, tools=tools, verbose=True)\n",
    "\n",
    "result = agent_executor.invoke(\n",
    "    {\n",
    "        \"input\": \"Send a greeting to my coworkers in the #general channel. Note use `channel` as key of channel id, and `message` as key of content to sent in the channel.\"\n",
    "    }\n",
    ")\n",
    "\n",
    "result"
   ]
  }
 ],
 "metadata": {
  "kernelspec": {
   "display_name": "venv",
   "language": "python",
   "name": "python3"
  },
  "language_info": {
   "codemirror_mode": {
    "name": "ipython",
    "version": 3
   },
   "file_extension": ".py",
   "mimetype": "text/x-python",
   "name": "python",
   "nbconvert_exporter": "python",
   "pygments_lexer": "ipython3",
   "version": "3.10.0"
  }
 },
 "nbformat": 4,
 "nbformat_minor": 2
}
