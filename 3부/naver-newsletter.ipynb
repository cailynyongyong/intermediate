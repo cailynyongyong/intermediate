{
 "cells": [
  {
   "cell_type": "code",
   "execution_count": 38,
   "metadata": {},
   "outputs": [
    {
     "data": {
      "text/plain": [
       "[{'position': 1,\n",
       "  'title': 'AI에 대한 관심',\n",
       "  'link': 'https://www.news1.kr/photos/view/?6591992',\n",
       "  'thumbnail': 'https://serpapi.com/searches/6617846610d74491c5119e0f/images/ac6d184ba9947adb8247123e6177c6459b3166e3462bb0685b0523ddb0539075.gif',\n",
       "  'news_info': {'name': '뉴스1', 'date': '40분 전'},\n",
       "  'snippet': '11일 서울 강남구 코엑스에서 ‘생성형 인공지능(AI) 레드팀 챌린지’ 행사가 열리고 있다. 국내에서 처음으로 열리는 레드팀 챌린지는 국내 생성형 AI 모델(LLM)을 대상으로 잠재적 위험과 취약점(부정확 정보, 유해정보 등)을 찾는 행사다. 2024.4.11/뉴스1'},\n",
       " {'position': 2,\n",
       "  'title': '메타, 자체 최신 AI 칩 출시…\"이전 모델 대비 성능 3배\"',\n",
       "  'link': 'https://www.yna.co.kr/view/AKR20240411074800091?input=1195m',\n",
       "  'thumbnail': 'https://serpapi.com/searches/6617846610d74491c5119e0f/images/ac6d184ba9947adb5a62b2d76a5bf01db9f54a80f2d37a5b5769a3aa9e7e2f7d.gif',\n",
       "  'news_info': {'name': '연합뉴스', 'date': '5시간 전'},\n",
       "  'snippet': '\"순위와 추천 알고리즘 구동 지원…생성형 AI 훈련 목표\" 엔비디아 의존 낮추기 속도…\"올해 H100급 60만 개 확보\" MS, 아마존, 구글도…빅테크들, 자체 AI칩 개발 경쟁 가열 (샌프란시스코=연합뉴스) 김태종 특파원 = 인공지능(AI)을 둘러싼 경쟁이 치열해지면서 빅테크(정보기술대기업)가 AI 칩 개발에 나선...'},\n",
       " {'position': 3,\n",
       "  'title': '윤 대통령 \"\\'AI 3대 국가\\'로 도약하겠다…2027년까지 9.4조 원 투자\"',\n",
       "  'link': 'https://news.sbs.co.kr/news/endPage.do?news_id=N1007605000&plink=ORI&cooper=NAVER',\n",
       "  'thumbnail': 'https://serpapi.com/searches/6617846610d74491c5119e0f/images/ac6d184ba9947adb256d99c8479947b2e8c18d53d33e92e1e87b801b8e0a7c94.gif',\n",
       "  'news_info': {'name': 'SBS', 'date': '2일 전'},\n",
       "  'snippet': '이와 함께 기존의 생성형 AI를 넘어서는 차세대 범용 AI 기술과 AI 안전 기술 개발도 추진하기로 했습니다. 윤 대통령은 또 타이완 강진에 따른 TSMC 반도체... 대통령실 이관섭 비서실장, 성태윤 정책실장, 박춘섭 경제수석, 박상욱 과학기술수석 등도 자리했습니다. (사진=대통령실통신사진기자단, 연합뉴스)'},\n",
       " {'position': 4,\n",
       "  'title': '과기정통부, ‘생성형 AI 레드팀 챌린지’ 개최... 잠재적 위험과 취약점 발굴',\n",
       "  'link': 'http://www.boannews.com/media/view.asp?idx=128739&kind=',\n",
       "  'thumbnail': 'https://serpapi.com/searches/6617846610d74491c5119e0f/images/ac6d184ba9947adbf71eb276b12ef5255aace1985dbfcbbc7be5b824aabe3190.gif',\n",
       "  'news_info': {'name': '보안뉴스', 'date': '34분 전'},\n",
       "  'snippet': '1일차 : 네이버, SKT, 업스테이지, 포티투마루 생성형 AI 모델 대상 편견·차별 등 취약점 발굴2일차 : AI 신뢰·안전성을 논의하는 ‘글로벌 AI 안전 컨퍼런스’ 개최국내 AI 산업 안전·신뢰성 확산 기대, 공존 가능한 ‘AI 시대’ 준비[보안뉴스 김경애 기자] ‘생성형 AI 레드팀 챌린지(이하 레드팀...'}]"
      ]
     },
     "execution_count": 38,
     "metadata": {},
     "output_type": "execute_result"
    }
   ],
   "source": [
    "import os\n",
    "from serpapi import GoogleSearch\n",
    "\n",
    "params = {\n",
    "  \"engine\": \"naver\",\n",
    "  \"query\": \"생성AI 뉴스\",\n",
    "  \"hl\": \"ko\",\n",
    "  \"api_key\": os.environ.get(\"SERPAPI_API_KEY\")\n",
    "}\n",
    "\n",
    "search = GoogleSearch(params)\n",
    "results = search.get_dict()\n",
    "news = results[\"news_results\"]\n",
    "news"
   ]
  },
  {
   "cell_type": "code",
   "execution_count": 62,
   "metadata": {},
   "outputs": [
    {
     "name": "stdout",
     "output_type": "stream",
     "text": [
      "👾10X AI Club 뉴스레터\n",
      "\n",
      "\n",
      "<strong>AI에 대한 관심</strong>\n",
      "#AI #레드팀챌린지 #생성형AI\n",
      "- 11일 서울 강남구 코엑스에서 ‘생성형 인공지능(AI) 레드팀 챌린지’ 행사가 열리고 있다.\n",
      "- 국내에서 처음으로 열리는 레드팀 챌린지는 국내 생성형 AI 모델(LLM)을 대상으로 잠재적 위험과 취약점(부정확 정보, 유해정보 등)을 찾는 행사다.\n",
      "- 2024.4.11/뉴스1\n",
      "링크: https://www.news1.kr/photos/view/?6591992\n",
      "\n",
      "**메타, 자체 최신 AI 칩 출시…\"이전 모델 대비 성능 3배\"**\n",
      "#AI #칩 #성능\n",
      "- \"순위와 추천 알고리즘 구동 지원…생성형 AI 훈련 목표\"\n",
      "- 엔비디아 의존 낮추기 속도…\"올해 H100급 60만 개 확보\"\n",
      "- MS, 아마존, 구글도…빅테크들, 자체 AI칩 개발 경쟁 가열\n",
      "- 인공지능(AI)을 둘러싼 경쟁이 치열해지면서 빅테크가 AI 칩 개발에 나선\n",
      "\n",
      "링크: [기사 바로가기](https://www.yna.co.kr/view/AKR20240411074800091?input=1195m)\n",
      "\n",
      "**윤 대통령 \"'AI 3대 국가'로 도약하겠다…2027년까지 9.4조 원 투자**\n",
      "#AI #Investment #FutureTechnology\n",
      "- 차세대 범용 AI 기술과 AI 안전 기술 개발도 추진\n",
      "- 타이완 강진에 따른 TSMC 반도체 상황도 주목\n",
      "- 대통령실 관계자들도 참석\n",
      "- 자세한 내용은 링크에서 확인: [뉴스 바로가기](https://news.sbs.co.kr/news/endPage.do?news_id=N1007605000&plink=ORI&cooper=NAVER)\n",
      "\n",
      "\n"
     ]
    }
   ],
   "source": [
    "from langchain.prompts import PromptTemplate\n",
    "from langchain_openai import ChatOpenAI\n",
    "from langchain.chains import LLMChain\n",
    "\n",
    "# Function to generate insights for a single news item\n",
    "def generate_news_item_content(title, description, link):\n",
    "    # LLM 체인이 사용할 템플릿 \n",
    "    template = \"\"\"{title}, {description}, {link}를 토대로 뉴스레터 컨텐츠를 작성해줘. 짧고 간결하게 bullet point로 설명해줘. 제목과 링크는 꼭 구별할 수 있게 보여줘.\n",
    "                \n",
    "                예시 템플렛: \n",
    "                {title} \n",
    "                #keyword #keyword #keyword\n",
    "                - {description} with insights. write in concise bullet points\n",
    "                링크: {link}\n",
    "    \"\"\"\n",
    "    \n",
    "    # 프롬프트\n",
    "    prompt = PromptTemplate(template=template, input_variables=[\"title\", \"description\", \"link\"])\n",
    "    \n",
    "    # 프롬프트 사용한 체인 만들기\n",
    "    llm_chain = LLMChain(prompt=prompt, llm=ChatOpenAI(temperature=0))\n",
    "    \n",
    "    # 체인 실행시키기\n",
    "    result = llm_chain.run(title=title, description=description, link=link)\n",
    "\n",
    "    return result\n",
    "\n",
    "# 뉴스레터 템플렛\n",
    "newsletter_content = \"👾10X AI Club 뉴스레터\\n\\n\"\n",
    "\n",
    "# Loop through each news item\n",
    "for item in news[:3]:\n",
    "    # Extract details of the news item\n",
    "    title = item[\"title\"]\n",
    "    link = item[\"link\"]\n",
    "    description = item[\"snippet\"]\n",
    "\n",
    "    # 각 검색 결과마다 뉴스레터로 만들어주는 체인 실행하기\n",
    "    news_item_content = generate_news_item_content(title, description, link)\n",
    "\n",
    "    # 뉴스레터에 추가시키기 \n",
    "    newsletter_content += news_item_content + \"\\n\\n\"\n",
    "\n",
    "# Print the entire newsletter\n",
    "print(newsletter_content)\n"
   ]
  },
  {
   "cell_type": "code",
   "execution_count": 25,
   "metadata": {},
   "outputs": [],
   "source": [
    "from langchain_community.agent_toolkits import GmailToolkit\n",
    "from dotenv import load_dotenv\n",
    "load_dotenv()\n",
    "import openai\n",
    "import os\n",
    "openai.api_key= os.environ.get(\"OPENAI_API_KEY\")\n",
    "\n",
    "toolkit = GmailToolkit()\n",
    "\n",
    "from langchain_community.tools.gmail.utils import (\n",
    "    build_resource_service,\n",
    "    get_gmail_credentials,\n",
    ")\n",
    "\n",
    "# Can review scopes here https://developers.google.com/gmail/api/auth/scopes\n",
    "# For instance, readonly scope is 'https://www.googleapis.com/auth/gmail.readonly'\n",
    "credentials = get_gmail_credentials(\n",
    "    token_file=\"token.json\",\n",
    "    scopes=[\"https://mail.google.com/\"],\n",
    "    client_secrets_file=\"credentials.json\",\n",
    ")\n",
    "api_resource = build_resource_service(credentials=credentials)\n",
    "toolkit = GmailToolkit(api_resource=api_resource)\n",
    "\n",
    "tools = toolkit.get_tools()\n",
    "\n",
    "from langchain import hub\n",
    "from langchain.agents import AgentExecutor, create_openai_functions_agent\n",
    "from langchain_openai import ChatOpenAI\n",
    "\n",
    "instructions = \"\"\"You are an assistant.\"\"\"\n",
    "base_prompt = hub.pull(\"langchain-ai/openai-functions-template\")\n",
    "prompt = base_prompt.partial(instructions=instructions)\n",
    "\n",
    "llm = ChatOpenAI(temperature=0)\n",
    "\n",
    "agent = create_openai_functions_agent(llm, toolkit.get_tools(), prompt)\n",
    "\n",
    "agent_executor = AgentExecutor(\n",
    "    agent=agent,\n",
    "    tools=toolkit.get_tools(),\n",
    "    verbose=False,\n",
    ")"
   ]
  },
  {
   "cell_type": "code",
   "execution_count": 63,
   "metadata": {},
   "outputs": [
    {
     "name": "stdout",
     "output_type": "stream",
     "text": [
      "{'input': 'send an email to cailynyongyong@gmail.com, with the email body as the newsletter content, 👾10X AI Club 뉴스레터<br><br><br><strong>AI에 대한 관심</strong><br>#AI #레드팀챌린지 #생성형AI<br>- 11일 서울 강남구 코엑스에서 ‘생성형 인공지능(AI) 레드팀 챌린지’ 행사가 열리고 있다.<br>- 국내에서 처음으로 열리는 레드팀 챌린지는 국내 생성형 AI 모델(LLM)을 대상으로 잠재적 위험과 취약점(부정확 정보, 유해정보 등)을 찾는 행사다.<br>- 2024.4.11/뉴스1<br>링크: https://www.news1.kr/photos/view/?6591992<br><br>**메타, 자체 최신 AI 칩 출시…\"이전 모델 대비 성능 3배\"**<br>#AI #칩 #성능<br>- \"순위와 추천 알고리즘 구동 지원…생성형 AI 훈련 목표\"<br>- 엔비디아 의존 낮추기 속도…\"올해 H100급 60만 개 확보\"<br>- MS, 아마존, 구글도…빅테크들, 자체 AI칩 개발 경쟁 가열<br>- 인공지능(AI)을 둘러싼 경쟁이 치열해지면서 빅테크가 AI 칩 개발에 나선<br><br>링크: [기사 바로가기](https://www.yna.co.kr/view/AKR20240411074800091?input=1195m)<br><br>**윤 대통령 \"\\'AI 3대 국가\\'로 도약하겠다…2027년까지 9.4조 원 투자**<br>#AI #Investment #FutureTechnology<br>- 차세대 범용 AI 기술과 AI 안전 기술 개발도 추진<br>- 타이완 강진에 따른 TSMC 반도체 상황도 주목<br>- 대통령실 관계자들도 참석<br>- 자세한 내용은 링크에서 확인: [뉴스 바로가기](https://news.sbs.co.kr/news/endPage.do?news_id=N1007605000&plink=ORI&cooper=NAVER)<br><br>', 'output': 'The email with the newsletter content has been successfully sent to cailynyongyong@gmail.com.'}\n"
     ]
    }
   ],
   "source": [
    "newsletter_content = newsletter_content.replace(\"\\n\", \"<br>\")\n",
    "\n",
    "result = agent_executor.invoke(\n",
    "    {\n",
    "        \"input\": f\"send an email to cailynyongyong@gmail.com, with the email body as the newsletter content, {newsletter_content}\"\n",
    "    }\n",
    ")\n",
    "\n",
    "print(result)"
   ]
  },
  {
   "cell_type": "code",
   "execution_count": null,
   "metadata": {},
   "outputs": [],
   "source": [
    "# 여러명에게 동시에 보내기 \n",
    "recipients = \"email1@example.com, email2@example.com, email3@example.com\"\n",
    "\n",
    "result = agent_executor.invoke(\n",
    "    {\n",
    "        \"input\": f\"send an email to {recipients}, with the email body as the newsletter content, {newsletter_content}\"\n",
    "    }\n",
    ")\n",
    "\n",
    "print(result)"
   ]
  }
 ],
 "metadata": {
  "kernelspec": {
   "display_name": "venv",
   "language": "python",
   "name": "python3"
  },
  "language_info": {
   "codemirror_mode": {
    "name": "ipython",
    "version": 3
   },
   "file_extension": ".py",
   "mimetype": "text/x-python",
   "name": "python",
   "nbconvert_exporter": "python",
   "pygments_lexer": "ipython3",
   "version": "3.10.0"
  }
 },
 "nbformat": 4,
 "nbformat_minor": 2
}
