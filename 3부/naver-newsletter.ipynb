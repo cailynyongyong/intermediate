{
 "cells": [
  {
   "cell_type": "code",
   "execution_count": 1,
   "metadata": {},
   "outputs": [
    {
     "data": {
      "text/plain": [
       "[{'position': 1,\n",
       "  'title': '한기정 “AI 긍정적 영향 이면에 시장 독과점화 우려”',\n",
       "  'link': 'http://www.segye.com/newsView/20240527510325?OutUrl=naver',\n",
       "  'thumbnail': 'https://serpapi.com/searches/66556208d5b1c5dfd000ae61/images/ac6d184ba9947adb8247123e6177c6459b3166e3462bb0685b0523ddb0539075.gif',\n",
       "  'news_info': {'name': '세계일보언론사 선정', 'date': '23시간 전'},\n",
       "  'snippet': '뉴스1 한기정 공정위원장은 개회사를 통해 “챗GPT를 필두로 한 생성형 AI의 공개 이후 AI를 응용한 다양한 혁신적 서비스가 등장했고, 이는 산업계, 시장 뿐 아니라 우리의 일상생활에도 직접적인 영향을 미치고 있다”면서 “하지만 서비스 창출, 효율성 제고 등 AI의 긍정적 영향 이면에 공정성, 신뢰성...'},\n",
       " {'position': 2,\n",
       "  'title': 'IBM \"세계 CEO 68%, AI에 내장된 안전장치 필요\"',\n",
       "  'link': 'https://news.sbs.co.kr/news/endPage.do?news_id=N1007662740&plink=ORI&cooper=NAVER',\n",
       "  'thumbnail': 'https://serpapi.com/searches/66556208d5b1c5dfd000ae61/images/ac6d184ba9947adb5a62b2d76a5bf01db9f54a80f2d37a5b5769a3aa9e7e2f7d.gif',\n",
       "  'news_info': {'name': 'SBS', 'date': '3시간 전'},\n",
       "  'snippet': '이 조사에 따르면 CEO 절반은 2026년까지 성장을 위해 생성형 AI를 활용할 것이라고 응답했습니다. 그러나 아직 생성형 AI 시험 운영에 집중하는... 또 약 75%의 CEO가 기업 내 유효한 AI 거버넌스 없이는 신뢰할 만한 AI를 구현할 수 없다고 응답했습니다. (사진=IBM 제공, 연합뉴스)'},\n",
       " {'position': 3,\n",
       "  'title': '머스크, AI 챗봇 운영할 슈퍼컴퓨터 구축한다',\n",
       "  'link': 'https://zdnet.co.kr/view/?no=20240527083613',\n",
       "  'thumbnail': 'https://serpapi.com/searches/66556208d5b1c5dfd000ae61/images/ac6d184ba9947adb256d99c8479947b2e8c18d53d33e92e1e87b801b8e0a7c94.gif',\n",
       "  'news_info': {'name': '지디넷코리아언론사 선정', 'date': '1일 전'},\n",
       "  'snippet': '경쟁 기업들이 사용하는 것보다 최소 4배 이상 커질 것이라고 말한 것으로 알려졌다. 그록은 지난 4월 버전 1.5가 출시된 상태로, 현재 텍스트뿐 아니라 사진, 다이어그램, 사진 등 시각 정보를 처리하는 데 장점이 있다. X는 이달 초 프리미엄 사용자들을 위해 그록 AI 생성 뉴스 요약 기능을 출시한 바 있다.'},\n",
       " {'position': 4,\n",
       "  'title': '약사님보다 짝퉁 감별사님보다…AI가 정확한 시대',\n",
       "  'link': 'https://www.mk.co.kr/article/11026185',\n",
       "  'thumbnail': 'https://serpapi.com/searches/66556208d5b1c5dfd000ae61/images/ac6d184ba9947adbf71eb276b12ef5255aace1985dbfcbbc7be5b824aabe3190.gif',\n",
       "  'news_info': {'name': '매일경제언론사 선정', 'date': '17시간 전'},\n",
       "  'snippet': '2022년 말 오픈AI가 챗GPT라는 생성형 AI를 선보인 이후 상황은 반전됐다. 이제는 수많은 빅테크 기업이 생성형 AI를 기반으로 한 다양한 서비스를... 이를 통해 제약·바이오 뉴스를 자동으로 작성하고 개인 선호도에 맞춘 기사를 제공할 뿐만 아니라, 의약품 데이터베이스 서비스도 제공하고 있다. 모두 기존에는...'}]"
      ]
     },
     "execution_count": 1,
     "metadata": {},
     "output_type": "execute_result"
    }
   ],
   "source": [
    "import os\n",
    "from serpapi import GoogleSearch\n",
    "\n",
    "params = {\n",
    "  \"engine\": \"naver\",\n",
    "  \"query\": \"생성AI 뉴스\",\n",
    "  \"hl\": \"ko\",\n",
    "  \"api_key\": os.environ.get(\"SERPAPI_API_KEY\")\n",
    "}\n",
    "\n",
    "search = GoogleSearch(params)\n",
    "results = search.get_dict()\n",
    "news = results[\"news_results\"]\n",
    "news"
   ]
  },
  {
   "cell_type": "code",
   "execution_count": 2,
   "metadata": {},
   "outputs": [
    {
     "name": "stderr",
     "output_type": "stream",
     "text": [
      "/Users/cailynyong/intermediate/venv/lib/python3.10/site-packages/langchain_core/_api/deprecation.py:119: LangChainDeprecationWarning: The method `Chain.run` was deprecated in langchain 0.1.0 and will be removed in 0.2.0. Use invoke instead.\n",
      "  warn_deprecated(\n"
     ]
    },
    {
     "name": "stdout",
     "output_type": "stream",
     "text": [
      "👾10X AI Club 뉴스레터\n",
      "\n",
      "한기정 “AI 긍정적 영향 이면에 시장 독과점화 우려” \n",
      "#AI #시장독과점화 #한기정공정위원장\n",
      "- 챗GPT를 필두로 한 생성형 AI의 공개 이후 혁신적 서비스 등장\n",
      "- 산업계, 시장, 일상생활에 직접적인 영향\n",
      "- AI의 긍정적 영향 이면에 공정성, 신뢰성 등 우려\n",
      "링크: http://www.segye.com/newsView/20240527510325?OutUrl=naver\n",
      "\n",
      "IBM \"세계 CEO 68%, AI에 내장된 안전장치 필요\" \n",
      "#IBM #CEO #AI\n",
      "- CEO 절반은 2026년까지 생성형 AI를 활용할 것이라고 응답\n",
      "- 약 75%의 CEO가 기업 내 유효한 AI 거버넌스 없이는 신뢰할 만한 AI를 구현할 수 없다고 응답\n",
      "- 생성형 AI 시험 운영에 집중 중\n",
      "링크: https://news.sbs.co.kr/news/endPage.do?news_id=N1007662740&plink=ORI&cooper=NAVER\n",
      "\n",
      "머스크, AI 챗봇 운영할 슈퍼컴퓨터 구축한다 \n",
      "#머스크 #AI #슈퍼컴퓨터\n",
      "- 경쟁 기업들이 사용하는 것보다 최소 4배 이상 커질 것이라고 말한 것으로 알려졌다.\n",
      "- 그록은 지난 4월 버전 1.5가 출시된 상태로, 현재 텍스트뿐 아니라 사진, 다이어그램, 사진 등 시각 정보를 처리하는 데 장점이 있다.\n",
      "- X는 이달 초 프리미엄 사용자들을 위해 그록 AI 생성 뉴스 요약 기능을 출시한 바 있다.\n",
      "링크: https://zdnet.co.kr/view/?no=20240527083613\n",
      "\n",
      "\n"
     ]
    }
   ],
   "source": [
    "from langchain.prompts import PromptTemplate\n",
    "from langchain_openai import ChatOpenAI\n",
    "from langchain.chains import LLMChain\n",
    "\n",
    "# Function to generate insights for a single news item\n",
    "def generate_news_item_content(title, description, link):\n",
    "    # LLM 체인이 사용할 템플릿 \n",
    "    template = \"\"\"{title}, {description}, {link}를 토대로 뉴스레터 컨텐츠를 작성해줘. 짧고 간결하게 bullet point로 설명해줘. 제목과 링크는 꼭 구별할 수 있게 보여줘.\n",
    "                \n",
    "                예시 템플렛: \n",
    "                {title} \n",
    "                #keyword #keyword #keyword\n",
    "                - {description} with insights. write in concise bullet points\n",
    "                링크: {link}\n",
    "    \"\"\"\n",
    "    \n",
    "    # 프롬프트\n",
    "    prompt = PromptTemplate(template=template, input_variables=[\"title\", \"description\", \"link\"])\n",
    "    \n",
    "    # 프롬프트 사용한 체인 만들기\n",
    "    llm_chain = LLMChain(prompt=prompt, llm=ChatOpenAI(temperature=0))\n",
    "    \n",
    "    # 체인 실행시키기\n",
    "    result = llm_chain.run(title=title, description=description, link=link)\n",
    "\n",
    "    return result\n",
    "\n",
    "# 뉴스레터 템플렛\n",
    "newsletter_content = \"👾10X AI Club 뉴스레터\\n\\n\"\n",
    "\n",
    "# Loop through each news item\n",
    "for item in news[:3]:\n",
    "    # Extract details of the news item\n",
    "    title = item[\"title\"]\n",
    "    link = item[\"link\"]\n",
    "    description = item[\"snippet\"]\n",
    "\n",
    "    # 각 검색 결과마다 뉴스레터로 만들어주는 체인 실행하기\n",
    "    news_item_content = generate_news_item_content(title, description, link)\n",
    "\n",
    "    # 뉴스레터에 추가시키기 \n",
    "    newsletter_content += news_item_content + \"\\n\\n\"\n",
    "\n",
    "# Print the entire newsletter\n",
    "print(newsletter_content)\n"
   ]
  },
  {
   "cell_type": "code",
   "execution_count": 4,
   "metadata": {},
   "outputs": [
    {
     "name": "stdout",
     "output_type": "stream",
     "text": [
      "Please visit this URL to authorize this application: https://accounts.google.com/o/oauth2/auth?response_type=code&client_id=754441104127-9bcbfp1pgscr3e6o1nlq9dfflvg66r5r.apps.googleusercontent.com&redirect_uri=http%3A%2F%2Flocalhost%3A64912%2F&scope=https%3A%2F%2Fmail.google.com%2F&state=rVBgu2XdAQsmCBwuuEtBMBUbgkKhAA&access_type=offline\n"
     ]
    }
   ],
   "source": [
    "from langchain_community.agent_toolkits import GmailToolkit\n",
    "from dotenv import load_dotenv\n",
    "load_dotenv()\n",
    "import openai\n",
    "import os\n",
    "openai.api_key= os.environ.get(\"OPENAI_API_KEY\")\n",
    "\n",
    "toolkit = GmailToolkit()\n",
    "\n",
    "from langchain_community.tools.gmail.utils import (\n",
    "    build_resource_service,\n",
    "    get_gmail_credentials,\n",
    ")\n",
    "\n",
    "# Can review scopes here https://developers.google.com/gmail/api/auth/scopes\n",
    "# For instance, readonly scope is 'https://www.googleapis.com/auth/gmail.readonly'\n",
    "credentials = get_gmail_credentials(\n",
    "    token_file=\"token.json\",\n",
    "    scopes=[\"https://mail.google.com/\"],\n",
    "    client_secrets_file=\"credentials.json\",\n",
    ")\n",
    "api_resource = build_resource_service(credentials=credentials)\n",
    "toolkit = GmailToolkit(api_resource=api_resource)\n",
    "\n",
    "tools = toolkit.get_tools()\n",
    "\n",
    "from langchain import hub\n",
    "from langchain.agents import AgentExecutor, create_openai_functions_agent\n",
    "from langchain_openai import ChatOpenAI\n",
    "\n",
    "instructions = \"\"\"You are an assistant.\"\"\"\n",
    "base_prompt = hub.pull(\"langchain-ai/openai-functions-template\")\n",
    "prompt = base_prompt.partial(instructions=instructions)\n",
    "\n",
    "llm = ChatOpenAI(temperature=0)\n",
    "\n",
    "agent = create_openai_functions_agent(llm, toolkit.get_tools(), prompt)\n",
    "\n",
    "agent_executor = AgentExecutor(\n",
    "    agent=agent,\n",
    "    tools=toolkit.get_tools(),\n",
    "    verbose=False,\n",
    ")"
   ]
  },
  {
   "cell_type": "code",
   "execution_count": 5,
   "metadata": {},
   "outputs": [
    {
     "name": "stdout",
     "output_type": "stream",
     "text": [
      "{'input': 'send an email to cailynyongyong@gmail.com, with the email body as the newsletter content, 👾10X AI Club 뉴스레터<br><br>한기정 “AI 긍정적 영향 이면에 시장 독과점화 우려” <br>#AI #시장독과점화 #한기정공정위원장<br>- 챗GPT를 필두로 한 생성형 AI의 공개 이후 혁신적 서비스 등장<br>- 산업계, 시장, 일상생활에 직접적인 영향<br>- AI의 긍정적 영향 이면에 공정성, 신뢰성 등 우려<br>링크: http://www.segye.com/newsView/20240527510325?OutUrl=naver<br><br>IBM \"세계 CEO 68%, AI에 내장된 안전장치 필요\" <br>#IBM #CEO #AI<br>- CEO 절반은 2026년까지 생성형 AI를 활용할 것이라고 응답<br>- 약 75%의 CEO가 기업 내 유효한 AI 거버넌스 없이는 신뢰할 만한 AI를 구현할 수 없다고 응답<br>- 생성형 AI 시험 운영에 집중 중<br>링크: https://news.sbs.co.kr/news/endPage.do?news_id=N1007662740&plink=ORI&cooper=NAVER<br><br>머스크, AI 챗봇 운영할 슈퍼컴퓨터 구축한다 <br>#머스크 #AI #슈퍼컴퓨터<br>- 경쟁 기업들이 사용하는 것보다 최소 4배 이상 커질 것이라고 말한 것으로 알려졌다.<br>- 그록은 지난 4월 버전 1.5가 출시된 상태로, 현재 텍스트뿐 아니라 사진, 다이어그램, 사진 등 시각 정보를 처리하는 데 장점이 있다.<br>- X는 이달 초 프리미엄 사용자들을 위해 그록 AI 생성 뉴스 요약 기능을 출시한 바 있다.<br>링크: https://zdnet.co.kr/view/?no=20240527083613<br><br>', 'output': 'The email with the newsletter content has been successfully sent to cailynyongyong@gmail.com.'}\n"
     ]
    }
   ],
   "source": [
    "newsletter_content = newsletter_content.replace(\"\\n\", \"<br>\")\n",
    "\n",
    "result = agent_executor.invoke(\n",
    "    {\n",
    "        \"input\": f\"send an email to cailynyongyong@gmail.com, with the email body as the newsletter content, {newsletter_content}\"\n",
    "    }\n",
    ")\n",
    "\n",
    "print(result)"
   ]
  },
  {
   "cell_type": "code",
   "execution_count": null,
   "metadata": {},
   "outputs": [],
   "source": [
    "# 여러명에게 동시에 보내기 \n",
    "recipients = \"email1@example.com, email2@example.com, email3@example.com\"\n",
    "\n",
    "result = agent_executor.invoke(\n",
    "    {\n",
    "        \"input\": f\"send an email to {recipients}, with the email body as the newsletter content, {newsletter_content}\"\n",
    "    }\n",
    ")\n",
    "\n",
    "print(result)"
   ]
  }
 ],
 "metadata": {
  "kernelspec": {
   "display_name": "venv",
   "language": "python",
   "name": "python3"
  },
  "language_info": {
   "codemirror_mode": {
    "name": "ipython",
    "version": 3
   },
   "file_extension": ".py",
   "mimetype": "text/x-python",
   "name": "python",
   "nbconvert_exporter": "python",
   "pygments_lexer": "ipython3",
   "version": "3.10.0"
  }
 },
 "nbformat": 4,
 "nbformat_minor": 2
}
